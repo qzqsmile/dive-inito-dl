{
 "cells": [
  {
   "cell_type": "code",
   "id": "initial_id",
   "metadata": {
    "collapsed": true,
    "ExecuteTime": {
     "end_time": "2025-04-13T07:08:27.427872Z",
     "start_time": "2025-04-13T07:08:27.418050Z"
    }
   },
   "source": [
    "import torch\n",
    "x = torch.arange(12, dtype=torch.float32)\n",
    "x"
   ],
   "outputs": [
    {
     "data": {
      "text/plain": [
       "tensor([ 0.,  1.,  2.,  3.,  4.,  5.,  6.,  7.,  8.,  9., 10., 11.])"
      ]
     },
     "execution_count": 2,
     "metadata": {},
     "output_type": "execute_result"
    }
   ],
   "execution_count": 2
  },
  {
   "metadata": {
    "ExecuteTime": {
     "end_time": "2025-04-13T07:09:32.849590Z",
     "start_time": "2025-04-13T07:09:32.842404Z"
    }
   },
   "cell_type": "code",
   "source": [
    "x.numel()\n",
    "x.shape\n",
    "X = x.reshape(3, 4)\n",
    "# print(X)\n",
    "X"
   ],
   "id": "b535aec4bb3b0e0f",
   "outputs": [
    {
     "data": {
      "text/plain": [
       "tensor([[ 0.,  1.,  2.,  3.],\n",
       "        [ 4.,  5.,  6.,  7.],\n",
       "        [ 8.,  9., 10., 11.]])"
      ]
     },
     "execution_count": 8,
     "metadata": {},
     "output_type": "execute_result"
    }
   ],
   "execution_count": 8
  },
  {
   "metadata": {
    "ExecuteTime": {
     "end_time": "2025-04-13T07:10:33.020354Z",
     "start_time": "2025-04-13T07:10:33.002515Z"
    }
   },
   "cell_type": "code",
   "source": [
    "torch.zeros((2,3,4))\n",
    "torch.ones((2,3,4))\n",
    "torch.randn(3,4)"
   ],
   "id": "945c3b7c22ec8c60",
   "outputs": [
    {
     "data": {
      "text/plain": [
       "tensor([[-2.5327, -0.9570,  0.7372, -0.4051],\n",
       "        [-0.3025, -2.4663, -0.3536, -0.3727],\n",
       "        [-0.8430,  1.7255, -1.0765, -0.9234]])"
      ]
     },
     "execution_count": 11,
     "metadata": {},
     "output_type": "execute_result"
    }
   ],
   "execution_count": 11
  },
  {
   "metadata": {
    "ExecuteTime": {
     "end_time": "2025-04-13T07:12:16.099449Z",
     "start_time": "2025-04-13T07:12:16.092706Z"
    }
   },
   "cell_type": "code",
   "source": [
    "X[:2, :] = 12\n",
    "print(X)"
   ],
   "id": "489ecdc9d947635b",
   "outputs": [
    {
     "name": "stdout",
     "output_type": "stream",
     "text": [
      "tensor([[12., 12., 12., 12.],\n",
      "        [12., 12., 12., 12.],\n",
      "        [ 8.,  9., 10., 11.]])\n"
     ]
    }
   ],
   "execution_count": 15
  },
  {
   "metadata": {
    "ExecuteTime": {
     "end_time": "2025-04-13T07:13:03.661815Z",
     "start_time": "2025-04-13T07:13:03.651380Z"
    }
   },
   "cell_type": "code",
   "source": "torch.exp(x)",
   "id": "f995bf0fcd6e4521",
   "outputs": [
    {
     "data": {
      "text/plain": [
       "tensor([162754.7969, 162754.7969, 162754.7969, 162754.7969, 162754.7969,\n",
       "        162754.7969, 162754.7969, 162754.7969,   2980.9580,   8103.0840,\n",
       "         22026.4648,  59874.1406])"
      ]
     },
     "execution_count": 16,
     "metadata": {},
     "output_type": "execute_result"
    }
   ],
   "execution_count": 16
  },
  {
   "metadata": {
    "ExecuteTime": {
     "end_time": "2025-04-13T07:32:00.142906Z",
     "start_time": "2025-04-13T07:32:00.137454Z"
    }
   },
   "cell_type": "code",
   "source": [
    "a = torch.arange(6).reshape((3, 2))\n",
    "b = torch.arange(2).reshape((1, 2))\n",
    "a, b"
   ],
   "id": "843b4e243cd8f55",
   "outputs": [
    {
     "data": {
      "text/plain": [
       "(tensor([[0, 1],\n",
       "         [2, 3],\n",
       "         [4, 5]]),\n",
       " tensor([[0, 1]]))"
      ]
     },
     "execution_count": 27,
     "metadata": {},
     "output_type": "execute_result"
    }
   ],
   "execution_count": 27
  },
  {
   "metadata": {
    "ExecuteTime": {
     "end_time": "2025-04-13T07:32:01.320538Z",
     "start_time": "2025-04-13T07:32:01.314497Z"
    }
   },
   "cell_type": "code",
   "source": "print(a + b)",
   "id": "4471bcdbc34e7939",
   "outputs": [
    {
     "name": "stdout",
     "output_type": "stream",
     "text": [
      "tensor([[0, 2],\n",
      "        [2, 4],\n",
      "        [4, 6]])\n"
     ]
    }
   ],
   "execution_count": 28
  },
  {
   "metadata": {
    "ExecuteTime": {
     "end_time": "2025-04-13T07:36:39.989361Z",
     "start_time": "2025-04-13T07:36:39.980882Z"
    }
   },
   "cell_type": "code",
   "source": [
    "Y = torch.tensor([[2.0,1, 4, 3], [1,2,3,4], [4,3,2,1]])\n",
    "before = id(Y)\n",
    "Y[:] = Y + X\n",
    "id(Y) == before"
   ],
   "id": "c901d5558db152e4",
   "outputs": [
    {
     "data": {
      "text/plain": [
       "True"
      ]
     },
     "execution_count": 30,
     "metadata": {},
     "output_type": "execute_result"
    }
   ],
   "execution_count": 30
  },
  {
   "metadata": {},
   "cell_type": "code",
   "outputs": [],
   "execution_count": null,
   "source": [
    "A = X.numpy()\n",
    "B = torch.from_numpy(A)\n",
    "type"
   ],
   "id": "5b6cc545c59c3cc5"
  },
  {
   "metadata": {
    "ExecuteTime": {
     "end_time": "2025-04-13T07:52:23.281553Z",
     "start_time": "2025-04-13T07:52:23.265818Z"
    }
   },
   "cell_type": "code",
   "source": [
    "X = torch.arange(12, dtype=torch.float32).reshape((3, 4))\n",
    "Y = torch.tensor([[2.0,1, 4, 3], [1,2,3,4], [4,3,2,1]])\n",
    "torch.cat((X, Y), dim=0), torch.cat((X, Y), dim=1)"
   ],
   "id": "205a50b443ab3da2",
   "outputs": [
    {
     "data": {
      "text/plain": [
       "(tensor([[ 0.,  1.,  2.,  3.],\n",
       "         [ 4.,  5.,  6.,  7.],\n",
       "         [ 8.,  9., 10., 11.],\n",
       "         [ 2.,  1.,  4.,  3.],\n",
       "         [ 1.,  2.,  3.,  4.],\n",
       "         [ 4.,  3.,  2.,  1.]]),\n",
       " tensor([[ 0.,  1.,  2.,  3.,  2.,  1.,  4.,  3.],\n",
       "         [ 4.,  5.,  6.,  7.,  1.,  2.,  3.,  4.],\n",
       "         [ 8.,  9., 10., 11.,  4.,  3.,  2.,  1.]]))"
      ]
     },
     "execution_count": 31,
     "metadata": {},
     "output_type": "execute_result"
    }
   ],
   "execution_count": 31
  },
  {
   "metadata": {
    "ExecuteTime": {
     "end_time": "2025-04-13T07:53:08.579917Z",
     "start_time": "2025-04-13T07:53:08.574939Z"
    }
   },
   "cell_type": "code",
   "source": "print(X > Y)",
   "id": "84659d0867dc9e98",
   "outputs": [
    {
     "name": "stdout",
     "output_type": "stream",
     "text": [
      "tensor([[False, False, False, False],\n",
      "        [ True,  True,  True,  True],\n",
      "        [ True,  True,  True,  True]])\n"
     ]
    }
   ],
   "execution_count": 35
  }
 ],
 "metadata": {
  "kernelspec": {
   "display_name": "Python 3",
   "language": "python",
   "name": "python3"
  },
  "language_info": {
   "codemirror_mode": {
    "name": "ipython",
    "version": 2
   },
   "file_extension": ".py",
   "mimetype": "text/x-python",
   "name": "python",
   "nbconvert_exporter": "python",
   "pygments_lexer": "ipython2",
   "version": "2.7.6"
  }
 },
 "nbformat": 4,
 "nbformat_minor": 5
}
