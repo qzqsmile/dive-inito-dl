{
 "cells": [
  {
   "cell_type": "code",
   "id": "initial_id",
   "metadata": {
    "collapsed": true,
    "ExecuteTime": {
     "end_time": "2025-05-05T03:23:41.560921Z",
     "start_time": "2025-05-05T03:23:39.713931Z"
    }
   },
   "source": [
    "import random\n",
    "import torch\n",
    "from torch.distributions.multinomial import Multinomial\n",
    "from d2l import torch as d21"
   ],
   "outputs": [],
   "execution_count": 2
  },
  {
   "metadata": {
    "ExecuteTime": {
     "end_time": "2025-05-05T03:23:46.683700Z",
     "start_time": "2025-05-05T03:23:46.676576Z"
    }
   },
   "cell_type": "code",
   "source": [
    "num_tosses = 100\n",
    "heads = sum([random.random() > 0.5 for _ in range(num_tosses)])\n",
    "tails = num_tosses - heads\n",
    "print(\"heads, tails: \",[heads, tails])"
   ],
   "id": "297898dd7dd2aafe",
   "outputs": [
    {
     "name": "stdout",
     "output_type": "stream",
     "text": [
      "heads, tails:  [51, 49]\n"
     ]
    }
   ],
   "execution_count": 5
  },
  {
   "metadata": {
    "ExecuteTime": {
     "end_time": "2025-05-05T03:25:13.898355Z",
     "start_time": "2025-05-05T03:25:13.890134Z"
    }
   },
   "cell_type": "code",
   "source": [
    "fair_probs = torch.tensor([0.5, 0.5])\n",
    "Multinomial(100, fair_probs).sample()"
   ],
   "id": "318f4a4edb0d8171",
   "outputs": [
    {
     "data": {
      "text/plain": [
       "tensor([49., 51.])"
      ]
     },
     "execution_count": 10,
     "metadata": {},
     "output_type": "execute_result"
    }
   ],
   "execution_count": 10
  },
  {
   "metadata": {
    "ExecuteTime": {
     "end_time": "2025-05-05T03:25:58.659525Z",
     "start_time": "2025-05-05T03:25:58.652051Z"
    }
   },
   "cell_type": "code",
   "source": "Multinomial(100, fair_probs).sample()/100",
   "id": "7ec7f673807b68e6",
   "outputs": [
    {
     "data": {
      "text/plain": [
       "tensor([0.4800, 0.5200])"
      ]
     },
     "execution_count": 17,
     "metadata": {},
     "output_type": "execute_result"
    }
   ],
   "execution_count": 17
  },
  {
   "metadata": {
    "ExecuteTime": {
     "end_time": "2025-05-05T03:38:38.405585Z",
     "start_time": "2025-05-05T03:38:38.393853Z"
    }
   },
   "cell_type": "code",
   "source": [
    "counts = Multinomial(1, fair_probs).sample((10000,))\n",
    "cum_counts = counts.cumsum(dim=0)\n",
    "estimates = cum_counts / cum_counts.sum(dim=1, keepdim=True)\n",
    "estimates = estimates.numpy()\n",
    "\n",
    "d21.set_figsize((5, 5))\n",
    "\n",
    "\n"
   ],
   "id": "4dc0de7ca3a22c66",
   "outputs": [],
   "execution_count": 18
  },
  {
   "metadata": {},
   "cell_type": "code",
   "outputs": [],
   "execution_count": null,
   "source": "",
   "id": "3f4bf34b275dbea3"
  }
 ],
 "metadata": {
  "kernelspec": {
   "display_name": "Python 3",
   "language": "python",
   "name": "python3"
  },
  "language_info": {
   "codemirror_mode": {
    "name": "ipython",
    "version": 2
   },
   "file_extension": ".py",
   "mimetype": "text/x-python",
   "name": "python",
   "nbconvert_exporter": "python",
   "pygments_lexer": "ipython2",
   "version": "2.7.6"
  }
 },
 "nbformat": 4,
 "nbformat_minor": 5
}
