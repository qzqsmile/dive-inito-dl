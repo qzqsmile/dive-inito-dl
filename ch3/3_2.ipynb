{
 "cells": [
  {
   "cell_type": "code",
   "id": "initial_id",
   "metadata": {
    "collapsed": true,
    "ExecuteTime": {
     "end_time": "2025-05-07T13:26:43.338667Z",
     "start_time": "2025-05-07T13:26:43.332163Z"
    }
   },
   "source": [
    "%matplotlib inline\n",
    "\n",
    "import time\n",
    "import numpy as np\n",
    "import torch\n",
    "from torch import nn\n",
    "from d2l import torch as d2l\n"
   ],
   "outputs": [],
   "execution_count": 14
  },
  {
   "metadata": {
    "ExecuteTime": {
     "end_time": "2025-05-07T12:12:55.779822Z",
     "start_time": "2025-05-07T12:12:55.775995Z"
    }
   },
   "cell_type": "code",
   "source": [
    "def add_to_class(Class):\n",
    "    def wrapper(obj):\n",
    "        setattr(Class, obj.__name__, obj)\n",
    "    return wrapper"
   ],
   "id": "e9fac934aab936e7",
   "outputs": [],
   "execution_count": 3
  },
  {
   "metadata": {
    "ExecuteTime": {
     "end_time": "2025-05-07T12:12:57.410144Z",
     "start_time": "2025-05-07T12:12:57.406148Z"
    }
   },
   "cell_type": "code",
   "source": [
    "class A:\n",
    "    def __init__(self):\n",
    "        self.b = 1\n",
    "\n",
    "a = A()"
   ],
   "id": "57531d82f1a6d3f1",
   "outputs": [],
   "execution_count": 4
  },
  {
   "metadata": {
    "ExecuteTime": {
     "end_time": "2025-05-07T12:13:17.172960Z",
     "start_time": "2025-05-07T12:13:17.168789Z"
    }
   },
   "cell_type": "code",
   "source": [
    "@add_to_class(A)\n",
    "def do(self):\n",
    "    print('Class attribute \"b\" is', self.b)\n",
    "a.do()"
   ],
   "id": "e68228fa65cc2c87",
   "outputs": [
    {
     "name": "stdout",
     "output_type": "stream",
     "text": [
      "Class attribute \"b\" is 1\n"
     ]
    }
   ],
   "execution_count": 6
  },
  {
   "metadata": {
    "ExecuteTime": {
     "end_time": "2025-05-07T13:14:08.583359Z",
     "start_time": "2025-05-07T13:14:08.577023Z"
    }
   },
   "cell_type": "code",
   "source": [
    "# from d2l import torch as d2l\n",
    "# import d2l\n",
    "\n",
    "# class HyperParameters:  #@save\n",
    "#     def save_hyperparameters(self, ignore=[]):\n",
    "#        raise NotImplemented\n",
    "\n",
    "class B(d2l.HyperParameters):\n",
    "    def __init__(self,a, b, c):\n",
    "        self.save_hyperparameters(ignore=['c'])\n",
    "        print(f'self.a= {self.a}, self.b= {self.b}')\n",
    "        print(f'There is no self.c = {not hasattr(self, \"c\")}')\n",
    "b = B(1, 2, 3)"
   ],
   "id": "7830b1d1a8458e8e",
   "outputs": [
    {
     "name": "stdout",
     "output_type": "stream",
     "text": [
      "self.a= 1, self.b= 2\n",
      "There is no self.c = True\n"
     ]
    }
   ],
   "execution_count": 4
  },
  {
   "metadata": {},
   "cell_type": "code",
   "source": [
    "# class ProgressBoard(d2l.HyperParameters):\n",
    "#     def __init__(self, xlabel=None, ylabel=None, xlim=None, ylim=None, xscale='linear', yscale='linear', ls=['-', '--', '-.', ':'],\n",
    "#      colors=['C0', 'C1', 'C2', 'C3'], fig=None, axes=None, figsize=(3.5, 2.5), display=True):\n",
    "#         self.save_hyperparameters()\n",
    "#\n",
    "#     def draw(self, x, y, label, every_n=1):\n",
    "#         raise NotImplemented\n",
    "\n",
    "\n"
   ],
   "id": "6b27d3fe6075cba9",
   "execution_count": 8,
   "outputs": []
  },
  {
   "metadata": {},
   "cell_type": "code",
   "source": [
    "board = d2l.ProgressBoard('x')\n",
    "for x in np.arange(0, 10, 0.1):\n",
    "    board.draw(x, np.sin(x), 'sin', every_n=2)\n",
    "    board.draw(x, np.cos(x), 'cos', every_n=10)\n"
   ],
   "id": "418a09ba1d393304",
   "execution_count": 15,
   "outputs": []
  },
  {
   "metadata": {
    "ExecuteTime": {
     "end_time": "2025-05-08T11:42:12.860151Z",
     "start_time": "2025-05-08T11:42:12.840845Z"
    }
   },
   "cell_type": "code",
   "source": [
    "class Module(nn.Module, d2l.HyperParameters):\n",
    "    def __init__(self, plot_train_per_epoch=2, plot_valid_per_epoch=1):\n",
    "        super().__init__()\n",
    "        self.save_hyperparameters()\n",
    "        self.board = d2l.ProgressBoard()\n",
    "\n",
    "    def loss(self, y_hat, y):\n",
    "        raise NotImplementedError\n",
    "\n",
    "    def forward(self, X):\n",
    "        assert hasattr(self, 'net')\n",
    "        return self.net(x)\n",
    "\n"
   ],
   "id": "1c0d6aff2ed386a8",
   "outputs": [],
   "execution_count": 16
  },
  {
   "metadata": {},
   "cell_type": "code",
   "outputs": [],
   "execution_count": null,
   "source": [
    "class SyntheticRegressionData(d2l.DataModule): #@save\n",
    "    def __init__(self):"
   ],
   "id": "89b28fe8c2279791"
  }
 ],
 "metadata": {
  "kernelspec": {
   "display_name": "Python 3",
   "language": "python",
   "name": "python3"
  },
  "language_info": {
   "codemirror_mode": {
    "name": "ipython",
    "version": 2
   },
   "file_extension": ".py",
   "mimetype": "text/x-python",
   "name": "python",
   "nbconvert_exporter": "python",
   "pygments_lexer": "ipython2",
   "version": "2.7.6"
  }
 },
 "nbformat": 4,
 "nbformat_minor": 5
}
